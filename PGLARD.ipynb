{
  "nbformat": 4,
  "nbformat_minor": 0,
  "metadata": {
    "colab": {
      "provenance": [],
      "authorship_tag": "ABX9TyMyFYRkImQk/LRe01b6hCt/"
    },
    "kernelspec": {
      "name": "python3",
      "display_name": "Python 3"
    },
    "language_info": {
      "name": "python"
    }
  },
  "cells": [
    {
      "cell_type": "code",
      "source": [
        "from google.colab import drive\n",
        "\n",
        "drive.mount('/content/drive', force_remount=True)\n",
        "\n",
        "FOLDERNAME = 'COLLEGE/* 0 COTERM/* CS 224N/cs224n-project'\n",
        "\n",
        "assert FOLDERNAME is not None, \"[!] Enter the foldername.\"\n",
        "\n",
        "%cd /content/drive/MyDrive\n",
        "%cd $FOLDERNAME\n",
        "%ls ."
      ],
      "metadata": {
        "id": "VtPefOMl07m_"
      },
      "execution_count": null,
      "outputs": []
    },
    {
      "cell_type": "code",
      "execution_count": null,
      "metadata": {
        "id": "OeFqzU6htL-P"
      },
      "outputs": [],
      "source": [
        "# get github repos\n",
        "!git clone https://github.com/SALT-NLP/Disfluency-Generation-and-Detection.git\n",
        "!git clone https://github.com/tatianapassali/artificial-disfluency-generation.git\n",
        "\n",
        "# Following pip packages need to be installed:\n",
        "!pip install torchtext==0.4.0\n",
        "!pip install nltk colorama pandas\n",
        "\n",
        "#Install necessary NLTK packages\n",
        "import nltk\n",
        "nltk.download('punkt')\n",
        "nltk.download('averaged_perceptron_tagger')\n",
        "nltk.download('wordnet')"
      ]
    },
    {
      "cell_type": "code",
      "source": [
        "# move LARD files into disf_gen_coarse2fine\n",
        "%cd /content/artificial-disfluency-generation/\n",
        "%cp -r data /content/Disfluency-Generation-and-Detection/disf_gen_coarse2fine\n",
        "%cp -r python_files /content/Disfluency-Generation-and-Detection/disf_gen_coarse2fine\n",
        "\n",
        "# move to disf_gen_coarse2fine\n",
        "%cd /content/Disfluency-Generation-and-Detection/disf_gen_coarse2fine\n",
        "\n",
        "# copy model weights\n",
        "%mkdir model_weights\n",
        "%cp /content/drive/MyDrive/cs224n-project/m_30.pt model_weights/m_30_pg.pt\n",
        "%cp /content/drive/MyDrive/cs224n-project/m_30_transformer_encoder.pt model_weights/m_30_transformer_encoder.pt \n",
        "%cp /content/drive/MyDrive/cs224n-project/m_30_transformerencoderdecoder.pt model_weights/m_30_transformerencoderdecoder.pt\n",
        "\n",
        "# replace evaluate.py with PG+LARD code\n",
        "%cp /content/drive/MyDrive/cs224n-project/modified_evaluate.py ./evaluate.py\n",
        "\n",
        "# copy test dataset over\n",
        "%cp /content/drive/MyDrive/cs224n-project/test.txt swbdIO/test.txt"
      ],
      "metadata": {
        "id": "ZS3cfK6-tnFw"
      },
      "execution_count": null,
      "outputs": []
    },
    {
      "cell_type": "code",
      "source": [
        "MODEL_PATH = \"model_weights/m_30_transformerencoderdecoder.pt\" #@param [\"model_weights/m_30_pg.pt\", \"model_weights/m_30_transformer_encoder.pt \", \"model_weights/m_30_transformerencoderdecoder.pt\"]\n",
        "!python evaluate.py -model_path $MODEL_PATH"
      ],
      "metadata": {
        "id": "PkRpoMfC2TMJ"
      },
      "execution_count": null,
      "outputs": []
    },
    {
      "cell_type": "code",
      "source": [
        "# store generated results\n",
        "%cp swbdIO/pred.txt_generated /content/drive/MyDrive/cs224n-project/pred_pgtransformerencdec_lard_generated.txt\n",
        "%cp swbdIO/pred.txt_out /content/drive/MyDrive/cs224n-project/pred_pgtransformerencdec_lard_out.txt\n",
        "%cp swbdIO/pred.txt /content/drive/MyDrive/cs224n-project/pred_pgtransformerencdec_lard.txt"
      ],
      "metadata": {
        "id": "ylv0cZR87_WR"
      },
      "execution_count": 24,
      "outputs": []
    }
  ]
}